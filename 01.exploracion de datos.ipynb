{
 "cells": [
  {
   "cell_type": "code",
   "execution_count": 1,
   "id": "025e35e5-e771-4b3b-858b-45523b55c77a",
   "metadata": {},
   "outputs": [
    {
     "name": "stdout",
     "output_type": "stream",
     "text": [
      "<class 'pandas.core.frame.DataFrame'>\n",
      "RangeIndex: 200 entries, 0 to 199\n",
      "Data columns (total 5 columns):\n",
      " #   Column                  Non-Null Count  Dtype \n",
      "---  ------                  --------------  ----- \n",
      " 0   CustomerID              200 non-null    int64 \n",
      " 1   Gender                  200 non-null    object\n",
      " 2   Age                     200 non-null    int64 \n",
      " 3   Annual Income (k$)      200 non-null    int64 \n",
      " 4   Spending Score (1-100)  200 non-null    int64 \n",
      "dtypes: int64(4), object(1)\n",
      "memory usage: 7.9+ KB\n"
     ]
    },
    {
     "data": {
      "text/plain": [
       "(   CustomerID  Gender  Age  Annual Income (k$)  Spending Score (1-100)\n",
       " 0           1    Male   19                  15                      39\n",
       " 1           2    Male   21                  15                      81\n",
       " 2           3  Female   20                  16                       6\n",
       " 3           4  Female   23                  16                      77\n",
       " 4           5  Female   31                  17                      40,\n",
       " None,\n",
       "        CustomerID         Age  Annual Income (k$)  Spending Score (1-100)\n",
       " count  200.000000  200.000000          200.000000              200.000000\n",
       " mean   100.500000   38.850000           60.560000               50.200000\n",
       " std     57.879185   13.969007           26.264721               25.823522\n",
       " min      1.000000   18.000000           15.000000                1.000000\n",
       " 25%     50.750000   28.750000           41.500000               34.750000\n",
       " 50%    100.500000   36.000000           61.500000               50.000000\n",
       " 75%    150.250000   49.000000           78.000000               73.000000\n",
       " max    200.000000   70.000000          137.000000               99.000000)"
      ]
     },
     "execution_count": 1,
     "metadata": {},
     "output_type": "execute_result"
    }
   ],
   "source": [
    "import pandas as pd\n",
    "\n",
    "# Cargar el archivo\n",
    "file_path = 'Anexo 5Mall_Customers.csv'\n",
    "data = pd.read_csv(file_path)\n",
    "\n",
    "# Mostrar las primeras filas del dataset para entender su estructura\n",
    "data.head(), data.info(), data.describe()"
   ]
  },
  {
   "cell_type": "code",
   "execution_count": null,
   "id": "7adee8fa-d396-453d-bd6d-47b66fc85a90",
   "metadata": {},
   "outputs": [],
   "source": []
  }
 ],
 "metadata": {
  "kernelspec": {
   "display_name": "Python 3 (ipykernel)",
   "language": "python",
   "name": "python3"
  },
  "language_info": {
   "codemirror_mode": {
    "name": "ipython",
    "version": 3
   },
   "file_extension": ".py",
   "mimetype": "text/x-python",
   "name": "python",
   "nbconvert_exporter": "python",
   "pygments_lexer": "ipython3",
   "version": "3.12.7"
  }
 },
 "nbformat": 4,
 "nbformat_minor": 5
}
